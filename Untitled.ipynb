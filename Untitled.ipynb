{
 "cells": [
  {
   "cell_type": "code",
   "execution_count": null,
   "id": "96d68bc1-5f2a-467e-9577-4294d304766d",
   "metadata": {},
   "outputs": [
    {
     "name": "stdout",
     "output_type": "stream",
     "text": [
      "\n",
      "CondaError: Run 'conda init' before 'conda activate'\n",
      "\n"
     ]
    }
   ],
   "source": [
    "! conda activate project_GGA1"
   ]
  },
  {
   "cell_type": "code",
   "execution_count": 1,
   "id": "8161971d-4580-4e4a-91e2-74df9eebe55e",
   "metadata": {
    "scrolled": true
   },
   "outputs": [
    {
     "name": "stdout",
     "output_type": "stream",
     "text": [
      "Requirement already satisfied: streamlit in /opt/miniconda3/envs/project_GGA1/lib/python3.10/site-packages (1.49.1)\n",
      "Requirement already satisfied: requests in /opt/miniconda3/envs/project_GGA1/lib/python3.10/site-packages (2.32.5)\n",
      "Requirement already satisfied: watchdog in /opt/miniconda3/envs/project_GGA1/lib/python3.10/site-packages (6.0.0)\n",
      "Requirement already satisfied: altair!=5.4.0,!=5.4.1,<6,>=4.0 in /opt/miniconda3/envs/project_GGA1/lib/python3.10/site-packages (from streamlit) (5.5.0)\n",
      "Requirement already satisfied: blinker<2,>=1.5.0 in /opt/miniconda3/envs/project_GGA1/lib/python3.10/site-packages (from streamlit) (1.9.0)\n",
      "Requirement already satisfied: cachetools<7,>=4.0 in /opt/miniconda3/envs/project_GGA1/lib/python3.10/site-packages (from streamlit) (6.2.0)\n",
      "Requirement already satisfied: click<9,>=7.0 in /opt/miniconda3/envs/project_GGA1/lib/python3.10/site-packages (from streamlit) (8.2.1)\n",
      "Requirement already satisfied: numpy<3,>=1.23 in /opt/miniconda3/envs/project_GGA1/lib/python3.10/site-packages (from streamlit) (2.2.6)\n",
      "Requirement already satisfied: packaging<26,>=20 in /opt/miniconda3/envs/project_GGA1/lib/python3.10/site-packages (from streamlit) (25.0)\n",
      "Requirement already satisfied: pandas<3,>=1.4.0 in /opt/miniconda3/envs/project_GGA1/lib/python3.10/site-packages (from streamlit) (2.3.2)\n",
      "Requirement already satisfied: pillow<12,>=7.1.0 in /opt/miniconda3/envs/project_GGA1/lib/python3.10/site-packages (from streamlit) (11.3.0)\n",
      "Requirement already satisfied: protobuf<7,>=3.20 in /opt/miniconda3/envs/project_GGA1/lib/python3.10/site-packages (from streamlit) (6.32.1)\n",
      "Requirement already satisfied: pyarrow>=7.0 in /opt/miniconda3/envs/project_GGA1/lib/python3.10/site-packages (from streamlit) (21.0.0)\n",
      "Requirement already satisfied: tenacity<10,>=8.1.0 in /opt/miniconda3/envs/project_GGA1/lib/python3.10/site-packages (from streamlit) (9.1.2)\n",
      "Requirement already satisfied: toml<2,>=0.10.1 in /opt/miniconda3/envs/project_GGA1/lib/python3.10/site-packages (from streamlit) (0.10.2)\n",
      "Requirement already satisfied: typing-extensions<5,>=4.4.0 in /opt/miniconda3/envs/project_GGA1/lib/python3.10/site-packages (from streamlit) (4.15.0)\n",
      "Requirement already satisfied: gitpython!=3.1.19,<4,>=3.0.7 in /opt/miniconda3/envs/project_GGA1/lib/python3.10/site-packages (from streamlit) (3.1.45)\n",
      "Requirement already satisfied: pydeck<1,>=0.8.0b4 in /opt/miniconda3/envs/project_GGA1/lib/python3.10/site-packages (from streamlit) (0.9.1)\n",
      "Requirement already satisfied: tornado!=6.5.0,<7,>=6.0.3 in /opt/miniconda3/envs/project_GGA1/lib/python3.10/site-packages (from streamlit) (6.5.2)\n",
      "Requirement already satisfied: charset_normalizer<4,>=2 in /opt/miniconda3/envs/project_GGA1/lib/python3.10/site-packages (from requests) (3.4.3)\n",
      "Requirement already satisfied: idna<4,>=2.5 in /opt/miniconda3/envs/project_GGA1/lib/python3.10/site-packages (from requests) (3.10)\n",
      "Requirement already satisfied: urllib3<3,>=1.21.1 in /opt/miniconda3/envs/project_GGA1/lib/python3.10/site-packages (from requests) (2.5.0)\n",
      "Requirement already satisfied: certifi>=2017.4.17 in /opt/miniconda3/envs/project_GGA1/lib/python3.10/site-packages (from requests) (2025.8.3)\n",
      "Requirement already satisfied: jinja2 in /opt/miniconda3/envs/project_GGA1/lib/python3.10/site-packages (from altair!=5.4.0,!=5.4.1,<6,>=4.0->streamlit) (3.1.6)\n",
      "Requirement already satisfied: jsonschema>=3.0 in /opt/miniconda3/envs/project_GGA1/lib/python3.10/site-packages (from altair!=5.4.0,!=5.4.1,<6,>=4.0->streamlit) (4.25.1)\n",
      "Requirement already satisfied: narwhals>=1.14.2 in /opt/miniconda3/envs/project_GGA1/lib/python3.10/site-packages (from altair!=5.4.0,!=5.4.1,<6,>=4.0->streamlit) (2.5.0)\n",
      "Requirement already satisfied: gitdb<5,>=4.0.1 in /opt/miniconda3/envs/project_GGA1/lib/python3.10/site-packages (from gitpython!=3.1.19,<4,>=3.0.7->streamlit) (4.0.12)\n",
      "Requirement already satisfied: smmap<6,>=3.0.1 in /opt/miniconda3/envs/project_GGA1/lib/python3.10/site-packages (from gitdb<5,>=4.0.1->gitpython!=3.1.19,<4,>=3.0.7->streamlit) (5.0.2)\n",
      "Requirement already satisfied: python-dateutil>=2.8.2 in /opt/miniconda3/envs/project_GGA1/lib/python3.10/site-packages (from pandas<3,>=1.4.0->streamlit) (2.9.0.post0)\n",
      "Requirement already satisfied: pytz>=2020.1 in /opt/miniconda3/envs/project_GGA1/lib/python3.10/site-packages (from pandas<3,>=1.4.0->streamlit) (2025.2)\n",
      "Requirement already satisfied: tzdata>=2022.7 in /opt/miniconda3/envs/project_GGA1/lib/python3.10/site-packages (from pandas<3,>=1.4.0->streamlit) (2025.2)\n",
      "Requirement already satisfied: MarkupSafe>=2.0 in /opt/miniconda3/envs/project_GGA1/lib/python3.10/site-packages (from jinja2->altair!=5.4.0,!=5.4.1,<6,>=4.0->streamlit) (3.0.2)\n",
      "Requirement already satisfied: attrs>=22.2.0 in /opt/miniconda3/envs/project_GGA1/lib/python3.10/site-packages (from jsonschema>=3.0->altair!=5.4.0,!=5.4.1,<6,>=4.0->streamlit) (25.3.0)\n",
      "Requirement already satisfied: jsonschema-specifications>=2023.03.6 in /opt/miniconda3/envs/project_GGA1/lib/python3.10/site-packages (from jsonschema>=3.0->altair!=5.4.0,!=5.4.1,<6,>=4.0->streamlit) (2025.9.1)\n",
      "Requirement already satisfied: referencing>=0.28.4 in /opt/miniconda3/envs/project_GGA1/lib/python3.10/site-packages (from jsonschema>=3.0->altair!=5.4.0,!=5.4.1,<6,>=4.0->streamlit) (0.36.2)\n",
      "Requirement already satisfied: rpds-py>=0.7.1 in /opt/miniconda3/envs/project_GGA1/lib/python3.10/site-packages (from jsonschema>=3.0->altair!=5.4.0,!=5.4.1,<6,>=4.0->streamlit) (0.27.1)\n",
      "Requirement already satisfied: six>=1.5 in /opt/miniconda3/envs/project_GGA1/lib/python3.10/site-packages (from python-dateutil>=2.8.2->pandas<3,>=1.4.0->streamlit) (1.17.0)\n"
     ]
    }
   ],
   "source": [
    "! pip install streamlit requests watchdog"
   ]
  },
  {
   "cell_type": "code",
   "execution_count": null,
   "id": "2c57f627-5377-4ec9-bfb7-0f10b0e0f8a3",
   "metadata": {},
   "outputs": [],
   "source": [
    "# 83f6a09fcdfe1d3e03ef1d3f774c524f\n",
    "# Kakao Developers 콘솔에서 발급받은 값 넣기\n",
    "! export KAKAO_REST_API_KEY=\"b6ff73d724d7463f3a6e1f72078c020e\"\n",
    "! export KAKAO_REDIRECT_URI=\"https://hackteam32.streamlit.app\"   # 콘솔에도 똑같이 등록해야 함\n",
    "# (선택) 클라이언트 시크릿을 쓰는 앱이면 이 줄도:\n",
    "# export KAKAO_CLIENT_SECRET=\"여기에_클라_시크릿\""
   ]
  },
  {
   "cell_type": "code",
   "execution_count": 3,
   "id": "e9dd1bcc-65f4-4b45-a05a-e7e3aa4f0ae9",
   "metadata": {},
   "outputs": [
    {
     "name": "stdout",
     "output_type": "stream",
     "text": [
      "\u001B[0m\n",
      "\u001B[34m\u001B[1m  You can now view your Streamlit app in your browser.\u001B[0m\n",
      "\u001B[0m\n",
      "\u001B[34m  Local URL: \u001B[0m\u001B[1mhttp://localhost:8501\u001B[0m\n",
      "\u001B[34m  Network URL: \u001B[0m\u001B[1mhttp://192.168.21.106:8501\u001B[0m\n",
      "\u001B[0m\n",
      "^C\n"
     ]
    }
   ],
   "source": [
    "! streamlit run team_project1.py"
   ]
  },
  {
   "cell_type": "code",
   "id": "a7de380e-a085-46b1-b65e-8d3920ead233",
   "metadata": {
    "ExecuteTime": {
     "end_time": "2025-09-19T00:38:59.139684Z",
     "start_time": "2025-09-19T00:38:59.130988Z"
    }
   },
   "source": [
    "import cv2\n",
    "img = cv2.imread('./test.jpg')\n",
    "g_img = cv2.cvtColor(img, cv2.COLOR_RGB2GRAY)\n",
    "cv2.imwrite(\"gray_img.jpg\", g_img)"
   ],
   "outputs": [
    {
     "data": {
      "text/plain": [
       "True"
      ]
     },
     "execution_count": 7,
     "metadata": {},
     "output_type": "execute_result"
    }
   ],
   "execution_count": 7
  },
  {
   "cell_type": "code",
   "id": "80731466-8bff-44b8-b676-024e56ee87f5",
   "metadata": {
    "ExecuteTime": {
     "end_time": "2025-09-19T00:37:56.130365Z",
     "start_time": "2025-09-19T00:37:50.459306Z"
    }
   },
   "source": [
    "cv2.imshow(\"test\",g_img)\n",
    "cv2.waitKey(0)\n",
    "cv2.destroyAllWindows()\n",
    "cv2.waitKey(1)\n",
    "cv2.waitKey(1)\n",
    "cv2.waitKey(1)\n",
    "cv2.waitKey(1)"
   ],
   "outputs": [
    {
     "data": {
      "text/plain": [
       "-1"
      ]
     },
     "execution_count": 6,
     "metadata": {},
     "output_type": "execute_result"
    }
   ],
   "execution_count": 6
  },
  {
   "metadata": {},
   "cell_type": "code",
   "outputs": [],
   "execution_count": null,
   "source": "",
   "id": "808d72845fc13f1e"
  }
 ],
 "metadata": {
  "kernelspec": {
   "display_name": "project_GGA1",
   "language": "python",
   "name": "python3"
  },
  "language_info": {
   "codemirror_mode": {
    "name": "ipython",
    "version": 3
   },
   "file_extension": ".py",
   "mimetype": "text/x-python",
   "name": "python",
   "nbconvert_exporter": "python",
   "pygments_lexer": "ipython3",
   "version": "3.10.18"
  }
 },
 "nbformat": 4,
 "nbformat_minor": 5
}
