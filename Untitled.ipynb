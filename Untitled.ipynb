{
 "cells": [
  {
   "cell_type": "code",
   "execution_count": null,
   "id": "2c57f627-5377-4ec9-bfb7-0f10b0e0f8a3",
   "metadata": {},
   "outputs": [],
   "source": [
    "from transformers.processing_utils import transformers_module\n",
    "# 83f6a09fcdfe1d3e03ef1d3f774c524f\n",
    "# Kakao Developers 콘솔에서 발급받은 값 넣기\n",
    "! export KAKAO_REST_API_KEY=\"b6ff73d724d7463f3a6e1f72078c020e\"\n",
    "! export KAKAO_REDIRECT_URI=\"https://hackteam32.streamlit.app\"   # 콘솔에도 똑같이 등록해야 함\n",
    "# (선택) 클라이언트 시크릿을 쓰는 앱이면 이 줄도:\n",
    "# export KAKAO_CLIENT_SECRET=\"여기에_클라_시크릿\""
   ]
  },
  {
   "cell_type": "code",
   "id": "e9dd1bcc-65f4-4b45-a05a-e7e3aa4f0ae9",
   "metadata": {
    "jupyter": {
     "is_executing": true
    },
    "ExecuteTime": {
     "start_time": "2025-09-20T15:19:28.489162Z"
    }
   },
   "source": [
    "! streamlit run team_project1.py"
   ],
   "outputs": [
    {
     "name": "stdout",
     "output_type": "stream",
     "text": [
      "\u001B[0m\r\n",
      "\u001B[34m\u001B[1m  You can now view your Streamlit app in your browser.\u001B[0m\r\n",
      "\u001B[0m\r\n",
      "\u001B[34m  Local URL: \u001B[0m\u001B[1mhttp://localhost:8501\u001B[0m\r\n",
      "\u001B[34m  Network URL: \u001B[0m\u001B[1mhttp://192.168.0.104:8501\u001B[0m\r\n",
      "\u001B[0m\r\n"
     ]
    }
   ],
   "execution_count": null
  },
  {
   "cell_type": "code",
   "id": "a7de380e-a085-46b1-b65e-8d3920ead233",
   "metadata": {
    "ExecuteTime": {
     "end_time": "2025-09-19T00:38:59.139684Z",
     "start_time": "2025-09-19T00:38:59.130988Z"
    }
   },
   "source": [
    "import cv2\n",
    "img = cv2.imread('./test.jpg')\n",
    "g_img = cv2.cvtColor(img, cv2.COLOR_RGB2GRAY)\n",
    "cv2.imwrite(\"gray_img.jpg\", g_img)"
   ],
   "outputs": [
    {
     "data": {
      "text/plain": [
       "True"
      ]
     },
     "execution_count": 7,
     "metadata": {},
     "output_type": "execute_result"
    }
   ],
   "execution_count": 7
  },
  {
   "metadata": {
    "ExecuteTime": {
     "end_time": "2025-09-19T01:10:37.688057Z",
     "start_time": "2025-09-19T01:10:37.685337Z"
    }
   },
   "cell_type": "code",
   "source": [
    "import os\n",
    "print(os.getenv(\"KAKAO_REDIRECT_URI\", \"https://hackteam32.streamlit.app\"))\n",
    "REST_API_KEY = os.getenv(\"KAKAO_REST_API_KEY\")\n",
    "print(REST_API_KEY)"
   ],
   "id": "808d72845fc13f1e",
   "outputs": [
    {
     "name": "stdout",
     "output_type": "stream",
     "text": [
      "https://hackteam32.streamlit.app\n",
      "None\n"
     ]
    }
   ],
   "execution_count": 16
  },
  {
   "metadata": {
    "ExecuteTime": {
     "end_time": "2025-09-20T15:12:27.831509Z",
     "start_time": "2025-09-20T15:12:21.187272Z"
    }
   },
   "cell_type": "code",
   "source": [
    "import transformers\n",
    "!pip uninstall -y transformers\n",
    "!pip install transformers==4.56.1\n",
    "!python -c \"import transformers; print(transformers.__version__)\""
   ],
   "id": "9eb438b09a7befff",
   "outputs": [
    {
     "name": "stdout",
     "output_type": "stream",
     "text": [
      "Found existing installation: transformers 4.56.1\r\n",
      "Uninstalling transformers-4.56.1:\r\n",
      "  Successfully uninstalled transformers-4.56.1\r\n",
      "Collecting transformers==4.56.1\r\n",
      "  Using cached transformers-4.56.1-py3-none-any.whl.metadata (42 kB)\r\n",
      "Requirement already satisfied: filelock in /opt/miniconda3/envs/project_GGA1/lib/python3.10/site-packages (from transformers==4.56.1) (3.17.0)\r\n",
      "Requirement already satisfied: huggingface-hub<1.0,>=0.34.0 in /opt/miniconda3/envs/project_GGA1/lib/python3.10/site-packages (from transformers==4.56.1) (0.34.4)\r\n",
      "Requirement already satisfied: numpy>=1.17 in /opt/miniconda3/envs/project_GGA1/lib/python3.10/site-packages (from transformers==4.56.1) (2.0.1)\r\n",
      "Requirement already satisfied: packaging>=20.0 in /opt/miniconda3/envs/project_GGA1/lib/python3.10/site-packages (from transformers==4.56.1) (25.0)\r\n",
      "Requirement already satisfied: pyyaml>=5.1 in /opt/miniconda3/envs/project_GGA1/lib/python3.10/site-packages (from transformers==4.56.1) (6.0.2)\r\n",
      "Requirement already satisfied: regex!=2019.12.17 in /opt/miniconda3/envs/project_GGA1/lib/python3.10/site-packages (from transformers==4.56.1) (2024.11.6)\r\n",
      "Requirement already satisfied: requests in /opt/miniconda3/envs/project_GGA1/lib/python3.10/site-packages (from transformers==4.56.1) (2.32.5)\r\n",
      "Requirement already satisfied: tokenizers<=0.23.0,>=0.22.0 in /opt/miniconda3/envs/project_GGA1/lib/python3.10/site-packages (from transformers==4.56.1) (0.22.1)\r\n",
      "Requirement already satisfied: safetensors>=0.4.3 in /opt/miniconda3/envs/project_GGA1/lib/python3.10/site-packages (from transformers==4.56.1) (0.5.3)\r\n",
      "Requirement already satisfied: tqdm>=4.27 in /opt/miniconda3/envs/project_GGA1/lib/python3.10/site-packages (from transformers==4.56.1) (4.67.1)\r\n",
      "Requirement already satisfied: fsspec>=2023.5.0 in /opt/miniconda3/envs/project_GGA1/lib/python3.10/site-packages (from huggingface-hub<1.0,>=0.34.0->transformers==4.56.1) (2024.12.0)\r\n",
      "Requirement already satisfied: hf-xet<2.0.0,>=1.1.3 in /opt/miniconda3/envs/project_GGA1/lib/python3.10/site-packages (from huggingface-hub<1.0,>=0.34.0->transformers==4.56.1) (1.1.8)\r\n",
      "Requirement already satisfied: typing-extensions>=3.7.4.3 in /opt/miniconda3/envs/project_GGA1/lib/python3.10/site-packages (from huggingface-hub<1.0,>=0.34.0->transformers==4.56.1) (4.15.0)\r\n",
      "Requirement already satisfied: charset_normalizer<4,>=2 in /opt/miniconda3/envs/project_GGA1/lib/python3.10/site-packages (from requests->transformers==4.56.1) (3.3.2)\r\n",
      "Requirement already satisfied: idna<4,>=2.5 in /opt/miniconda3/envs/project_GGA1/lib/python3.10/site-packages (from requests->transformers==4.56.1) (3.10)\r\n",
      "Requirement already satisfied: urllib3<3,>=1.21.1 in /opt/miniconda3/envs/project_GGA1/lib/python3.10/site-packages (from requests->transformers==4.56.1) (2.5.0)\r\n",
      "Requirement already satisfied: certifi>=2017.4.17 in /opt/miniconda3/envs/project_GGA1/lib/python3.10/site-packages (from requests->transformers==4.56.1) (2025.8.3)\r\n",
      "Using cached transformers-4.56.1-py3-none-any.whl (11.6 MB)\r\n",
      "Installing collected packages: transformers\r\n",
      "Successfully installed transformers-4.56.1\r\n",
      "/opt/miniconda3/envs/project_GGA1/lib/python3.10/site-packages/requests/__init__.py:86: RequestsDependencyWarning: Unable to find acceptable character detection dependency (chardet or charset_normalizer).\r\n",
      "  warnings.warn(\r\n",
      "\r\n",
      "A module that was compiled using NumPy 1.x cannot be run in\r\n",
      "NumPy 2.0.1 as it may crash. To support both 1.x and 2.x\r\n",
      "versions of NumPy, modules must be compiled with NumPy 2.0.\r\n",
      "Some module may need to rebuild instead e.g. with 'pybind11>=2.12'.\r\n",
      "\r\n",
      "If you are a user of the module, the easiest solution will be to\r\n",
      "downgrade to 'numpy<2' or try to upgrade the affected module.\r\n",
      "We expect that some modules will need time to support NumPy 2.\r\n",
      "\r\n",
      "Traceback (most recent call last):  File \"<string>\", line 1, in <module>\r\n",
      "  File \"/opt/miniconda3/envs/project_GGA1/lib/python3.10/site-packages/transformers/__init__.py\", line 27, in <module>\r\n",
      "    from . import dependency_versions_check\r\n",
      "  File \"/opt/miniconda3/envs/project_GGA1/lib/python3.10/site-packages/transformers/dependency_versions_check.py\", line 16, in <module>\r\n",
      "    from .utils.versions import require_version, require_version_core\r\n",
      "  File \"/opt/miniconda3/envs/project_GGA1/lib/python3.10/site-packages/transformers/utils/__init__.py\", line 24, in <module>\r\n",
      "    from .auto_docstring import (\r\n",
      "  File \"/opt/miniconda3/envs/project_GGA1/lib/python3.10/site-packages/transformers/utils/auto_docstring.py\", line 30, in <module>\r\n",
      "    from .generic import ModelOutput\r\n",
      "  File \"/opt/miniconda3/envs/project_GGA1/lib/python3.10/site-packages/transformers/utils/generic.py\", line 51, in <module>\r\n",
      "    import torch  # noqa: F401\r\n",
      "  File \"/opt/miniconda3/envs/project_GGA1/lib/python3.10/site-packages/torch/__init__.py\", line 1477, in <module>\r\n",
      "    from .functional import *  # noqa: F403\r\n",
      "  File \"/opt/miniconda3/envs/project_GGA1/lib/python3.10/site-packages/torch/functional.py\", line 9, in <module>\r\n",
      "    import torch.nn.functional as F\r\n",
      "  File \"/opt/miniconda3/envs/project_GGA1/lib/python3.10/site-packages/torch/nn/__init__.py\", line 1, in <module>\r\n",
      "    from .modules import *  # noqa: F403\r\n",
      "  File \"/opt/miniconda3/envs/project_GGA1/lib/python3.10/site-packages/torch/nn/modules/__init__.py\", line 35, in <module>\r\n",
      "    from .transformer import TransformerEncoder, TransformerDecoder, \\\r\n",
      "  File \"/opt/miniconda3/envs/project_GGA1/lib/python3.10/site-packages/torch/nn/modules/transformer.py\", line 20, in <module>\r\n",
      "    device: torch.device = torch.device(torch._C._get_default_device()),  # torch.device('cpu'),\r\n",
      "/opt/miniconda3/envs/project_GGA1/lib/python3.10/site-packages/torch/nn/modules/transformer.py:20: UserWarning: Failed to initialize NumPy: _ARRAY_API not found (Triggered internally at /Users/runner/work/pytorch/pytorch/pytorch/torch/csrc/utils/tensor_numpy.cpp:84.)\r\n",
      "  device: torch.device = torch.device(torch._C._get_default_device()),  # torch.device('cpu'),\r\n",
      "4.56.1\r\n"
     ]
    }
   ],
   "execution_count": 22
  },
  {
   "metadata": {
    "ExecuteTime": {
     "end_time": "2025-09-20T15:13:36.283054Z",
     "start_time": "2025-09-20T15:12:36.420703Z"
    }
   },
   "cell_type": "code",
   "source": "!streamlit run sample.py",
   "id": "f0c823ec159aac3b",
   "outputs": [
    {
     "name": "stdout",
     "output_type": "stream",
     "text": [
      "\u001B[0m\r\n",
      "\u001B[34m\u001B[1m  You can now view your Streamlit app in your browser.\u001B[0m\r\n",
      "\u001B[0m\r\n",
      "\u001B[34m  Local URL: \u001B[0m\u001B[1mhttp://localhost:8501\u001B[0m\r\n",
      "\u001B[34m  Network URL: \u001B[0m\u001B[1mhttp://192.168.0.104:8501\u001B[0m\r\n",
      "\u001B[0m\r\n",
      "/opt/miniconda3/envs/project_GGA1/lib/python3.10/site-packages/requests/__init__.py:86: RequestsDependencyWarning: Unable to find acceptable character detection dependency (chardet or charset_normalizer).\r\n",
      "  warnings.warn(\r\n",
      "\r\n",
      "A module that was compiled using NumPy 1.x cannot be run in\r\n",
      "NumPy 2.0.1 as it may crash. To support both 1.x and 2.x\r\n",
      "versions of NumPy, modules must be compiled with NumPy 2.0.\r\n",
      "Some module may need to rebuild instead e.g. with 'pybind11>=2.12'.\r\n",
      "\r\n",
      "If you are a user of the module, the easiest solution will be to\r\n",
      "downgrade to 'numpy<2' or try to upgrade the affected module.\r\n",
      "We expect that some modules will need time to support NumPy 2.\r\n",
      "\r\n",
      "Traceback (most recent call last):  File \"/opt/miniconda3/envs/project_GGA1/lib/python3.10/threading.py\", line 973, in _bootstrap\r\n",
      "    self._bootstrap_inner()\r\n",
      "  File \"/opt/miniconda3/envs/project_GGA1/lib/python3.10/threading.py\", line 1016, in _bootstrap_inner\r\n",
      "    self.run()\r\n",
      "  File \"/opt/miniconda3/envs/project_GGA1/lib/python3.10/threading.py\", line 953, in run\r\n",
      "    self._target(*self._args, **self._kwargs)\r\n",
      "  File \"/opt/miniconda3/envs/project_GGA1/lib/python3.10/site-packages/streamlit/runtime/scriptrunner/script_runner.py\", line 378, in _run_script_thread\r\n",
      "    self._run_script(request.rerun_data)\r\n",
      "  File \"/opt/miniconda3/envs/project_GGA1/lib/python3.10/site-packages/streamlit/runtime/scriptrunner/script_runner.py\", line 685, in _run_script\r\n",
      "    ) = exec_func_with_error_handling(code_to_exec, ctx)\r\n",
      "  File \"/opt/miniconda3/envs/project_GGA1/lib/python3.10/site-packages/streamlit/runtime/scriptrunner/exec_code.py\", line 128, in exec_func_with_error_handling\r\n",
      "    result = func()\r\n",
      "  File \"/opt/miniconda3/envs/project_GGA1/lib/python3.10/site-packages/streamlit/runtime/scriptrunner/script_runner.py\", line 669, in code_to_exec\r\n",
      "    exec(code, module.__dict__)  # noqa: S102\r\n",
      "  File \"/Users/sondongbin/Documents/GitHub/GGA_team_project1/sample.py\", line 2, in <module>\r\n",
      "    from transformers import AutoProcessor, Gemma3nForConditionalGeneration\r\n",
      "  File \"/opt/miniconda3/envs/project_GGA1/lib/python3.10/site-packages/transformers/__init__.py\", line 27, in <module>\r\n",
      "    from . import dependency_versions_check\r\n",
      "  File \"/opt/miniconda3/envs/project_GGA1/lib/python3.10/site-packages/transformers/dependency_versions_check.py\", line 16, in <module>\r\n",
      "    from .utils.versions import require_version, require_version_core\r\n",
      "  File \"/opt/miniconda3/envs/project_GGA1/lib/python3.10/site-packages/transformers/utils/__init__.py\", line 24, in <module>\r\n",
      "    from .auto_docstring import (\r\n",
      "  File \"/opt/miniconda3/envs/project_GGA1/lib/python3.10/site-packages/transformers/utils/auto_docstring.py\", line 30, in <module>\r\n",
      "    from .generic import ModelOutput\r\n",
      "  File \"/opt/miniconda3/envs/project_GGA1/lib/python3.10/site-packages/transformers/utils/generic.py\", line 51, in <module>\r\n",
      "    import torch  # noqa: F401\r\n",
      "  File \"/opt/miniconda3/envs/project_GGA1/lib/python3.10/site-packages/torch/__init__.py\", line 1477, in <module>\r\n",
      "    from .functional import *  # noqa: F403\r\n",
      "  File \"/opt/miniconda3/envs/project_GGA1/lib/python3.10/site-packages/torch/functional.py\", line 9, in <module>\r\n",
      "    import torch.nn.functional as F\r\n",
      "  File \"/opt/miniconda3/envs/project_GGA1/lib/python3.10/site-packages/torch/nn/__init__.py\", line 1, in <module>\r\n",
      "    from .modules import *  # noqa: F403\r\n",
      "  File \"/opt/miniconda3/envs/project_GGA1/lib/python3.10/site-packages/torch/nn/modules/__init__.py\", line 35, in <module>\r\n",
      "    from .transformer import TransformerEncoder, TransformerDecoder, \\\r\n",
      "  File \"/opt/miniconda3/envs/project_GGA1/lib/python3.10/site-packages/torch/nn/modules/transformer.py\", line 20, in <module>\r\n",
      "    device: torch.device = torch.device(torch._C._get_default_device()),  # torch.device('cpu'),\r\n",
      "/opt/miniconda3/envs/project_GGA1/lib/python3.10/site-packages/torch/nn/modules/transformer.py:20: UserWarning: Failed to initialize NumPy: _ARRAY_API not found (Triggered internally at /Users/runner/work/pytorch/pytorch/pytorch/torch/csrc/utils/tensor_numpy.cpp:84.)\r\n",
      "  device: torch.device = torch.device(torch._C._get_default_device()),  # torch.device('cpu'),\r\n",
      "2025-09-21 00:12:38.558 Uncaught app execution\r\n",
      "Traceback (most recent call last):\r\n",
      "  File \"/opt/miniconda3/envs/project_GGA1/lib/python3.10/site-packages/streamlit/runtime/scriptrunner/exec_code.py\", line 128, in exec_func_with_error_handling\r\n",
      "    result = func()\r\n",
      "  File \"/opt/miniconda3/envs/project_GGA1/lib/python3.10/site-packages/streamlit/runtime/scriptrunner/script_runner.py\", line 669, in code_to_exec\r\n",
      "    exec(code, module.__dict__)  # noqa: S102\r\n",
      "  File \"/Users/sondongbin/Documents/GitHub/GGA_team_project1/sample.py\", line 2, in <module>\r\n",
      "    from transformers import AutoProcessor, Gemma3nForConditionalGeneration\r\n",
      "ImportError: cannot import name 'AutoProcessor' from 'transformers' (/opt/miniconda3/envs/project_GGA1/lib/python3.10/site-packages/transformers/__init__.py)\r\n",
      "`torch_dtype` is deprecated! Use `dtype` instead!\r\n",
      "Fetching 3 files:   0%|                                   | 0/3 [00:00<?, ?it/s]\r\n",
      "model-00002-of-00003.safetensors:   0%|             | 0.00/4.98G [00:00<?, ?B/s]\u001B[A\r\n",
      "\r\n",
      "model-00001-of-00003.safetensors:   0%|             | 0.00/3.08G [00:00<?, ?B/s]\u001B[A\u001B[A\r\n",
      "\r\n",
      "\r\n",
      "model-00003-of-00003.safetensors:   0%|             | 0.00/2.82G [00:00<?, ?B/s]\u001B[A\u001B[A\u001B[A\r\n",
      "\r\n",
      "model-00001-of-00003.safetensors:   0%|    | 878k/3.08G [00:02<2:24:07, 356kB/s]\u001B[A\u001B[A\r\n",
      "model-00002-of-00003.safetensors:   0%|  | 4.73M/4.98G [00:03<1:05:53, 1.26MB/s]\u001B[A\r\n",
      "\r\n",
      "model-00001-of-00003.safetensors:   0%|  | 952k/3.08G [00:10<11:57:31, 71.5kB/s]\u001B[A\u001B[A\r\n",
      "model-00002-of-00003.safetensors:   0%|  | 4.73M/4.98G [00:19<1:05:53, 1.26MB/s]\u001B[A\r\n",
      "\r\n",
      "model-00001-of-00003.safetensors:   0%| | 2.68M/3.08G [00:29<11:57:07, 71.5kB/s]\u001B[A\u001B[A^C\r\n",
      "\u001B[34m  Stopping...\u001B[0m\r\n",
      "Cancellation requested; stopping current tasks.\r\n",
      "model-00002-of-00003.safetensors:   0%| | 4.73M/4.98G [00:53<15:45:31, 87.7kB/s]\r\n",
      "model-00001-of-00003.safetensors:   0%| | 2.68M/3.08G [00:53<17:11:16, 49.7kB/s]\r\n",
      "Fetching 3 files:   0%|                                   | 0/3 [00:54<?, ?it/s]\r\n",
      "model-00003-of-00003.safetensors:   0%|             | 0.00/2.82G [00:53<?, ?B/s]\r\n"
     ]
    }
   ],
   "execution_count": 23
  },
  {
   "metadata": {
    "ExecuteTime": {
     "end_time": "2025-09-20T14:36:38.026244Z",
     "start_time": "2025-09-20T14:35:32.932450Z"
    }
   },
   "cell_type": "code",
   "source": "!pip install git+https://github.com/huggingface/transformers@v4.49.0-Gemma-3",
   "id": "7b418b13529f07b1",
   "outputs": [
    {
     "name": "stdout",
     "output_type": "stream",
     "text": [
      "Collecting git+https://github.com/huggingface/transformers@v4.49.0-Gemma-3\r\n",
      "  Cloning https://github.com/huggingface/transformers (to revision v4.49.0-Gemma-3) to /private/var/folders/w5/wzl4gmf1239g7mj54szj1v840000gn/T/pip-req-build-9yj2ilo1\r\n",
      "  Running command git clone --filter=blob:none --quiet https://github.com/huggingface/transformers /private/var/folders/w5/wzl4gmf1239g7mj54szj1v840000gn/T/pip-req-build-9yj2ilo1\r\n",
      "  Running command git checkout -q 1c0f782fe5f983727ff245c4c1b3906f9b99eec2\r\n",
      "  Resolved https://github.com/huggingface/transformers to commit 1c0f782fe5f983727ff245c4c1b3906f9b99eec2\r\n",
      "  Installing build dependencies ... \u001B[?25ldone\r\n",
      "\u001B[?25h  Getting requirements to build wheel ... \u001B[?25ldone\r\n",
      "\u001B[?25h  Preparing metadata (pyproject.toml) ... \u001B[?25ldone\r\n",
      "\u001B[?25hRequirement already satisfied: filelock in /opt/miniconda3/envs/project_GGA1/lib/python3.10/site-packages (from transformers==4.50.0.dev0) (3.17.0)\r\n",
      "Requirement already satisfied: huggingface-hub<1.0,>=0.26.0 in /opt/miniconda3/envs/project_GGA1/lib/python3.10/site-packages (from transformers==4.50.0.dev0) (0.34.4)\r\n",
      "Requirement already satisfied: numpy>=1.17 in /opt/miniconda3/envs/project_GGA1/lib/python3.10/site-packages (from transformers==4.50.0.dev0) (2.0.1)\r\n",
      "Requirement already satisfied: packaging>=20.0 in /opt/miniconda3/envs/project_GGA1/lib/python3.10/site-packages (from transformers==4.50.0.dev0) (25.0)\r\n",
      "Requirement already satisfied: pyyaml>=5.1 in /opt/miniconda3/envs/project_GGA1/lib/python3.10/site-packages (from transformers==4.50.0.dev0) (6.0.2)\r\n",
      "Requirement already satisfied: regex!=2019.12.17 in /opt/miniconda3/envs/project_GGA1/lib/python3.10/site-packages (from transformers==4.50.0.dev0) (2024.11.6)\r\n",
      "Requirement already satisfied: requests in /opt/miniconda3/envs/project_GGA1/lib/python3.10/site-packages (from transformers==4.50.0.dev0) (2.32.5)\r\n",
      "Requirement already satisfied: tokenizers<0.22,>=0.21 in /opt/miniconda3/envs/project_GGA1/lib/python3.10/site-packages (from transformers==4.50.0.dev0) (0.21.0)\r\n",
      "Requirement already satisfied: safetensors>=0.4.1 in /opt/miniconda3/envs/project_GGA1/lib/python3.10/site-packages (from transformers==4.50.0.dev0) (0.5.3)\r\n",
      "Requirement already satisfied: tqdm>=4.27 in /opt/miniconda3/envs/project_GGA1/lib/python3.10/site-packages (from transformers==4.50.0.dev0) (4.67.1)\r\n",
      "Requirement already satisfied: fsspec>=2023.5.0 in /opt/miniconda3/envs/project_GGA1/lib/python3.10/site-packages (from huggingface-hub<1.0,>=0.26.0->transformers==4.50.0.dev0) (2024.12.0)\r\n",
      "Requirement already satisfied: hf-xet<2.0.0,>=1.1.3 in /opt/miniconda3/envs/project_GGA1/lib/python3.10/site-packages (from huggingface-hub<1.0,>=0.26.0->transformers==4.50.0.dev0) (1.1.8)\r\n",
      "Requirement already satisfied: typing-extensions>=3.7.4.3 in /opt/miniconda3/envs/project_GGA1/lib/python3.10/site-packages (from huggingface-hub<1.0,>=0.26.0->transformers==4.50.0.dev0) (4.15.0)\r\n",
      "Requirement already satisfied: charset_normalizer<4,>=2 in /opt/miniconda3/envs/project_GGA1/lib/python3.10/site-packages (from requests->transformers==4.50.0.dev0) (3.3.2)\r\n",
      "Requirement already satisfied: idna<4,>=2.5 in /opt/miniconda3/envs/project_GGA1/lib/python3.10/site-packages (from requests->transformers==4.50.0.dev0) (3.10)\r\n",
      "Requirement already satisfied: urllib3<3,>=1.21.1 in /opt/miniconda3/envs/project_GGA1/lib/python3.10/site-packages (from requests->transformers==4.50.0.dev0) (2.5.0)\r\n",
      "Requirement already satisfied: certifi>=2017.4.17 in /opt/miniconda3/envs/project_GGA1/lib/python3.10/site-packages (from requests->transformers==4.50.0.dev0) (2025.8.3)\r\n",
      "Building wheels for collected packages: transformers\r\n",
      "  Building wheel for transformers (pyproject.toml) ... \u001B[?25ldone\r\n",
      "\u001B[?25h  Created wheel for transformers: filename=transformers-4.50.0.dev0-py3-none-any.whl size=10936457 sha256=19602e0c6c84f0ffa5346e4a3387ad1cb551300cc22b41cb30a79a8f75a9a89d\r\n",
      "  Stored in directory: /private/var/folders/w5/wzl4gmf1239g7mj54szj1v840000gn/T/pip-ephem-wheel-cache-cg_z2eqh/wheels/c1/95/d1/7d800368ab25942bf88f88fe1716597fcc8d757043c9b48a2f\r\n",
      "Successfully built transformers\r\n",
      "Installing collected packages: transformers\r\n",
      "  Attempting uninstall: transformers\r\n",
      "    Found existing installation: transformers 4.51.3\r\n",
      "    Uninstalling transformers-4.51.3:\r\n",
      "      Successfully uninstalled transformers-4.51.3\r\n",
      "Successfully installed transformers-4.50.0.dev0\r\n"
     ]
    }
   ],
   "execution_count": 5
  },
  {
   "metadata": {},
   "cell_type": "code",
   "outputs": [],
   "execution_count": null,
   "source": "",
   "id": "6240325b0315f449"
  }
 ],
 "metadata": {
  "kernelspec": {
   "display_name": "project_GGA1",
   "language": "python",
   "name": "python3"
  },
  "language_info": {
   "codemirror_mode": {
    "name": "ipython",
    "version": 3
   },
   "file_extension": ".py",
   "mimetype": "text/x-python",
   "name": "python",
   "nbconvert_exporter": "python",
   "pygments_lexer": "ipython3",
   "version": "3.10.18"
  }
 },
 "nbformat": 4,
 "nbformat_minor": 5
}
